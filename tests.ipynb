{
 "cells": [
  {
   "cell_type": "code",
   "execution_count": 4,
   "metadata": {},
   "outputs": [],
   "source": [
    "import numpy as np\n",
    "import math\n",
    "import itertools\n",
    "from matplotlib import collections  as mc\n",
    "import matplotlib.pyplot as plt\n",
    "import matplotlib.animation as animation"
   ]
  },
  {
   "cell_type": "code",
   "execution_count": 147,
   "metadata": {},
   "outputs": [],
   "source": [
    "class Node():\n",
    "\n",
    "    def __init__(self, position = np.array([.0, .0]), mass = 1.0, velocity = np.array([.0, .0]), force = np.array([.0, .0])):\n",
    "        self.position = position\n",
    "        self.velocity = velocity\n",
    "        self.force = force\n",
    "        self.mass = mass\n",
    "\n",
    "    def add_force(self, new_force):\n",
    "        self.force += new_force\n",
    "        \n",
    "\n",
    "class SoftBody():\n",
    "        \n",
    "    def __init__(self, center = np.array([.0, .0]), radius = 2.0, vertices = 8):\n",
    "\n",
    "        self.pressure_coeff = 1\n",
    "        self.tension_coeff = 1\n",
    "        self.g_coeff = 0.01\n",
    "        self.center = center\n",
    "        self.radius = radius\n",
    "        self.vertices = vertices\n",
    "        self.nodes=[]\n",
    "        self.coordinates = []\n",
    "        angle = 2 * math.pi / vertices\n",
    "\n",
    "        for i in range(vertices):\n",
    "            position = np.array([radius * math.cos(i * angle), radius * math.sin(i * angle)]) + self.center\n",
    "            node = Node(position = position)\n",
    "            self.nodes.append(node)\n",
    "            self.coordinates.append(node.position)\n",
    "\n",
    "        return\n",
    "\n",
    "    def get_coordinates(self):\n",
    "        \n",
    "        for idx in range(self.vertices):\n",
    "            self.coordinates[idx] = self.nodes[idx].position\n",
    "\n",
    "        x, y = zip(*self.coordinates)\n",
    "        \n",
    "        return x, y\n",
    "\n",
    "    def update_gravity(self):\n",
    "        \n",
    "        g_forces=[]\n",
    "        for node in self.nodes:\n",
    "            node.add_force(np.array([0, node.mass * -9.80665 * self.g_coeff]))\n",
    "        return \n",
    "\n",
    "    def calc_area(self):\n",
    "\n",
    "        \n",
    "        area = abs(self.coordinates[1][0] * self.coordinates[0][1] \n",
    "            - self.coordinates[0][0] * self.coordinates[1][1])/2*self.vertices\n",
    "           \n",
    "        return area\n",
    "\n",
    "    def update_pressure(self):\n",
    "        \n",
    "        start_area = math.pi * self.radius ** 2\n",
    "        area = self.calc_area()\n",
    "        p_forces =[]\n",
    "\n",
    "        pressure = (start_area - area) * self.pressure_coeff\n",
    "\n",
    "        for idx in range(self.vertices):\n",
    "            \n",
    "            c = self.coordinates[idx]\n",
    "            #take neighbors coordinates in a and b\n",
    "            a = self.coordinates[idx - 1]\n",
    "            if idx + 1 == len(self.coordinates):\n",
    "                b = self.coordinates[0]\n",
    "            else:\n",
    "                b = self.coordinates[idx + 1]\n",
    "            \n",
    "            p_force = np.array([c[0]/abs(c[0]) * (1 + ((b[0] - a[0]) / (a[1] - b[1])) ** 2) ** (-0.5), \n",
    "                c[0]/abs(c[0]) * (b[0] - a[0]) / (a[1] - b[1]) * ((1 + ((b[0] - a[0]) / (a[1] - b[1])) ** 2) ** (-0.5))]) * pressure\n",
    "            \n",
    "            self.nodes[idx].force = p_force + self.nodes[idx].force\n",
    "            p_forces.append(p_force)\n",
    "            \n",
    "        return p_forces\n",
    "\n",
    "    def update_tension(self):\n",
    "        t_forces = []\n",
    "        \n",
    "        for idx in range(self.vertices):\n",
    "\n",
    "            #take neighbors coordinates in l and r\n",
    "            p = self.coordinates[idx]\n",
    "\n",
    "            l = self.coordinates[idx - 1]\n",
    "            if idx + 1 == len(self.coordinates):\n",
    "                r = self.coordinates[0]\n",
    "            else:\n",
    "                r = self.coordinates[idx + 1]\n",
    "\n",
    "            t_force = (np.array([l[0] - p[0], l[1] - p[1]]) + np.array([r[0] - p[0], r[1] - p[1]])) * self.tension_coeff\n",
    "\n",
    "            self.nodes[idx].force = t_force + self.nodes[idx].force\n",
    "            t_forces.append(t_force)\n",
    "\n",
    "        return t_forces\n",
    "    \n",
    "    def collision_detection(self, collision_objects):\n",
    "        return\n",
    "\n",
    "    def update_velocity(self):\n",
    "        \n",
    "        time_interval = 1\n",
    "        for node in self.nodes:\n",
    "            node.velocity = node.velocity + node.force / node.mass * time_interval\n",
    "        return\n",
    "    \n",
    "    def update_position(self):\n",
    "        \n",
    "        self.update_velocity()\n",
    "        time_interval = 0.1\n",
    "        for node in self.nodes:\n",
    "            node.position = node.position + node.velocity * time_interval\n",
    "            print(node.position)\n",
    "        return\n",
    "\n",
    "    def advance_state(self):\n",
    "        \n",
    "        \n",
    "        return\n"
   ]
  },
  {
   "cell_type": "code",
   "execution_count": 148,
   "metadata": {},
   "outputs": [],
   "source": [
    "b=SoftBody(vertices = 8)"
   ]
  },
  {
   "cell_type": "code",
   "execution_count": 153,
   "metadata": {},
   "outputs": [
    {
     "name": "stderr",
     "output_type": "stream",
     "text": [
      "<ipython-input-147-aa985f6d8af4>:77: RuntimeWarning: divide by zero encountered in double_scalars\n",
      "  p_force = np.array([c[0]/abs(c[0]) * (1 + ((b[0] - a[0]) / (a[1] - b[1])) ** 2) ** (-0.5),\n",
      "<ipython-input-147-aa985f6d8af4>:78: RuntimeWarning: divide by zero encountered in double_scalars\n",
      "  c[0]/abs(c[0]) * (b[0] - a[0]) / (a[1] - b[1]) * ((1 + ((b[0] - a[0]) / (a[1] - b[1])) ** 2) ** (-0.5))]) * pressure\n",
      "<ipython-input-147-aa985f6d8af4>:78: RuntimeWarning: invalid value encountered in double_scalars\n",
      "  c[0]/abs(c[0]) * (b[0] - a[0]) / (a[1] - b[1]) * ((1 + ((b[0] - a[0]) / (a[1] - b[1])) ** 2) ** (-0.5))]) * pressure\n"
     ]
    },
    {
     "data": {
      "image/png": "[encoded data removed]",
      "text/plain": [
       "<Figure size 432x288 with 1 Axes>"
      ]
     },
     "metadata": {
      "needs_background": "light"
     },
     "output_type": "display_data"
    },
    {
     "name": "stdout",
     "output_type": "stream",
     "text": [
      "[ 2.02269157e+00 -1.40616719e-15]\n",
      "[1.43025893 1.43025893]\n",
      "[1.35622906e-16 2.02269157e+00]\n",
      "[-1.43025893  1.43025893]\n",
      "[-2.02269157e+00  3.63324423e-16]\n",
      "[-1.43025893 -1.43025893]\n",
      "[5.51532631e-17            nan]\n",
      "[ 1.43025893 -1.43025893]\n"
     ]
    }
   ],
   "source": [
    "p_forces = []\n",
    "for f, c in zip(b.update_pressure(), b.coordinates):\n",
    "    p_forces.append(f + c)\n",
    "\n",
    "lines =  list(zip(b.coordinates, p_forces))\n",
    "\n",
    "p_lines = mc.LineCollection(lines, colors='red', linewidths=1)\n",
    "\n",
    "t_forces = []\n",
    "for f, c in zip(b.update_tension(), b.coordinates):\n",
    "    t_forces.append(f + c)\n",
    "\n",
    "lines =  list(zip(b.coordinates, t_forces))\n",
    "\n",
    "t_lines = mc.LineCollection(lines, colors='green', linewidths=1)\n",
    "\n",
    "#b.update_gravity()\n",
    "g_forces = []\n",
    "for c in b.coordinates:\n",
    "    g_forces.append([0, -0.981] + c)\n",
    "    \n",
    "lines =  list(zip(b.coordinates, g_forces))\n",
    "\n",
    "g_lines = mc.LineCollection(lines, colors='purple', linewidths=1)\n",
    "\n",
    "fig, ax = plt.subplots()\n",
    "ax.add_collection(p_lines)\n",
    "ax.add_collection(t_lines)\n",
    "ax.add_collection(g_lines)\n",
    "x,y = b.get_coordinates()\n",
    "ax.plot(x, y, 'o')\n",
    "ax.axis('equal')\n",
    "ax.axis([-10,10,-20,20])\n",
    "plt.show()\n",
    "b.update_position()"
   ]
  },
  {
   "cell_type": "code",
   "execution_count": 98,
   "metadata": {},
   "outputs": [
    {
     "name": "stdout",
     "output_type": "stream",
     "text": [
      "[ 2.89198164e+00 -5.96671875e-15]\n",
      "[2.04493983 2.04493983]\n",
      "[-1.23828854e-15  2.89198164e+00]\n",
      "[-2.04493983  2.04493983]\n",
      "[-2.89198164e+00 -3.40864197e-17]\n",
      "[-2.04493983 -2.04493983]\n",
      "[ 2.35411239e-15 -2.89198164e+00]\n",
      "[ 2.04493983 -2.04493983]\n"
     ]
    },
    {
     "data": {
      "image/png": "[encoded data removed]",
      "text/plain": [
       "<Figure size 432x288 with 1 Axes>"
      ]
     },
     "metadata": {
      "needs_background": "light"
     },
     "output_type": "display_data"
    }
   ],
   "source": [
    "b.update_velocity()\n",
    "b.update_position()\n",
    "fig, ax = plt.subplots()\n",
    "x,y = b.get_coordinates()\n",
    "ax.plot(x, y, '.')\n",
    "ax.axis('equal')\n",
    "ax.axis([-10,10,-20,20])\n",
    "plt.show()"
   ]
  },
  {
   "cell_type": "code",
   "execution_count": null,
   "metadata": {},
   "outputs": [],
   "source": []
  },
  {
   "cell_type": "code",
   "execution_count": null,
   "metadata": {},
   "outputs": [],
   "source": []
  }
 ],
 "metadata": {
  "kernelspec": {
   "display_name": "Python 3",
   "language": "python",
   "name": "python3"
  },
  "language_info": {
   "codemirror_mode": {
    "name": "ipython",
    "version": 3
   },
   "file_extension": ".py",
   "mimetype": "text/x-python",
   "name": "python",
   "nbconvert_exporter": "python",
   "pygments_lexer": "ipython3",
   "version": "3.9.1"
  }
 },
 "nbformat": 4,
 "nbformat_minor": 4
}
