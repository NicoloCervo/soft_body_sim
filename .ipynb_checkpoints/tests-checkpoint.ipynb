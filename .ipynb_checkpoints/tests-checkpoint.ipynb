{
 "metadata": {
  "language_info": {
   "codemirror_mode": {
    "name": "ipython",
    "version": 3
   },
   "file_extension": ".py",
   "mimetype": "text/x-python",
   "name": "python",
   "nbconvert_exporter": "python",
   "pygments_lexer": "ipython3",
   "version": "3.9.1"
  },
  "orig_nbformat": 2,
  "kernelspec": {
   "name": "python3",
   "display_name": "Python 3",
   "language": "python"
  }
 },
 "nbformat": 4,
 "nbformat_minor": 2,
 "cells": [
  {
   "source": [
    "import numpy as np\n",
    "import math\n",
    "import itertools\n",
    "import matplotlib.pyplot as plt\n",
    "import matplotlib.animation as animation"
   ],
   "cell_type": "code",
   "metadata": {},
   "execution_count": 1,
   "outputs": [
    {
     "output_type": "error",
     "ename": "ModuleNotFoundError",
     "evalue": "No module named 'numpy'",
     "traceback": [
      "\u001b[0;31m---------------------------------------------------------------------------\u001b[0m",
      "\u001b[0;31mModuleNotFoundError\u001b[0m                       Traceback (most recent call last)",
      "\u001b[0;32m<ipython-input-1-f54dedd58f1f>\u001b[0m in \u001b[0;36m<module>\u001b[0;34m\u001b[0m\n\u001b[0;32m----> 1\u001b[0;31m \u001b[0;32mimport\u001b[0m \u001b[0mnumpy\u001b[0m \u001b[0;32mas\u001b[0m \u001b[0mnp\u001b[0m\u001b[0;34m\u001b[0m\u001b[0;34m\u001b[0m\u001b[0m\n\u001b[0m\u001b[1;32m      2\u001b[0m \u001b[0;32mimport\u001b[0m \u001b[0mmath\u001b[0m\u001b[0;34m\u001b[0m\u001b[0;34m\u001b[0m\u001b[0m\n\u001b[1;32m      3\u001b[0m \u001b[0;32mimport\u001b[0m \u001b[0mitertools\u001b[0m\u001b[0;34m\u001b[0m\u001b[0;34m\u001b[0m\u001b[0m\n\u001b[1;32m      4\u001b[0m \u001b[0;32mimport\u001b[0m \u001b[0mmatplotlib\u001b[0m\u001b[0;34m.\u001b[0m\u001b[0mpyplot\u001b[0m \u001b[0;32mas\u001b[0m \u001b[0mplt\u001b[0m\u001b[0;34m\u001b[0m\u001b[0;34m\u001b[0m\u001b[0m\n\u001b[1;32m      5\u001b[0m \u001b[0;32mimport\u001b[0m \u001b[0mmatplotlib\u001b[0m\u001b[0;34m.\u001b[0m\u001b[0manimation\u001b[0m \u001b[0;32mas\u001b[0m \u001b[0manimation\u001b[0m\u001b[0;34m\u001b[0m\u001b[0;34m\u001b[0m\u001b[0m\n",
      "\u001b[0;31mModuleNotFoundError\u001b[0m: No module named 'numpy'"
     ]
    }
   ]
  },
  {
   "cell_type": "code",
   "execution_count": 2,
   "metadata": {},
   "outputs": [
    {
     "output_type": "error",
     "ename": "NameError",
     "evalue": "name 'np' is not defined",
     "traceback": [
      "\u001b[0;31m---------------------------------------------------------------------------\u001b[0m",
      "\u001b[0;31mNameError\u001b[0m                                 Traceback (most recent call last)",
      "\u001b[0;32m<ipython-input-2-f64b1910da55>\u001b[0m in \u001b[0;36m<module>\u001b[0;34m\u001b[0m\n\u001b[0;32m----> 1\u001b[0;31m \u001b[0;32mclass\u001b[0m \u001b[0mNode\u001b[0m\u001b[0;34m(\u001b[0m\u001b[0;34m)\u001b[0m\u001b[0;34m:\u001b[0m\u001b[0;34m\u001b[0m\u001b[0;34m\u001b[0m\u001b[0m\n\u001b[0m\u001b[1;32m      2\u001b[0m \u001b[0;34m\u001b[0m\u001b[0m\n\u001b[1;32m      3\u001b[0m     \u001b[0;32mdef\u001b[0m \u001b[0m__init__\u001b[0m\u001b[0;34m(\u001b[0m\u001b[0mself\u001b[0m\u001b[0;34m,\u001b[0m \u001b[0mposition\u001b[0m \u001b[0;34m=\u001b[0m \u001b[0mnp\u001b[0m\u001b[0;34m.\u001b[0m\u001b[0marray\u001b[0m\u001b[0;34m(\u001b[0m\u001b[0;34m[\u001b[0m\u001b[0;36m.0\u001b[0m\u001b[0;34m,\u001b[0m \u001b[0;36m.0\u001b[0m\u001b[0;34m]\u001b[0m\u001b[0;34m)\u001b[0m\u001b[0;34m,\u001b[0m \u001b[0mmass\u001b[0m \u001b[0;34m=\u001b[0m \u001b[0;36m1.0\u001b[0m\u001b[0;34m,\u001b[0m \u001b[0mspeed\u001b[0m \u001b[0;34m=\u001b[0m \u001b[0mnp\u001b[0m\u001b[0;34m.\u001b[0m\u001b[0marray\u001b[0m\u001b[0;34m(\u001b[0m\u001b[0;34m[\u001b[0m\u001b[0;36m.0\u001b[0m\u001b[0;34m,\u001b[0m \u001b[0;36m.0\u001b[0m\u001b[0;34m]\u001b[0m\u001b[0;34m)\u001b[0m\u001b[0;34m,\u001b[0m \u001b[0mforce\u001b[0m \u001b[0;34m=\u001b[0m \u001b[0mnp\u001b[0m\u001b[0;34m.\u001b[0m\u001b[0marray\u001b[0m\u001b[0;34m(\u001b[0m\u001b[0;34m[\u001b[0m\u001b[0;36m.0\u001b[0m\u001b[0;34m,\u001b[0m \u001b[0;36m.0\u001b[0m\u001b[0;34m]\u001b[0m\u001b[0;34m)\u001b[0m\u001b[0;34m)\u001b[0m\u001b[0;34m:\u001b[0m\u001b[0;34m\u001b[0m\u001b[0;34m\u001b[0m\u001b[0m\n\u001b[1;32m      4\u001b[0m         \u001b[0mself\u001b[0m\u001b[0;34m.\u001b[0m\u001b[0mposition\u001b[0m \u001b[0;34m=\u001b[0m \u001b[0mposition\u001b[0m\u001b[0;34m\u001b[0m\u001b[0;34m\u001b[0m\u001b[0m\n\u001b[1;32m      5\u001b[0m         \u001b[0mself\u001b[0m\u001b[0;34m.\u001b[0m\u001b[0mspeed\u001b[0m \u001b[0;34m=\u001b[0m \u001b[0mspeed\u001b[0m\u001b[0;34m\u001b[0m\u001b[0;34m\u001b[0m\u001b[0m\n",
      "\u001b[0;32m<ipython-input-2-f64b1910da55>\u001b[0m in \u001b[0;36mNode\u001b[0;34m()\u001b[0m\n\u001b[1;32m      1\u001b[0m \u001b[0;32mclass\u001b[0m \u001b[0mNode\u001b[0m\u001b[0;34m(\u001b[0m\u001b[0;34m)\u001b[0m\u001b[0;34m:\u001b[0m\u001b[0;34m\u001b[0m\u001b[0;34m\u001b[0m\u001b[0m\n\u001b[1;32m      2\u001b[0m \u001b[0;34m\u001b[0m\u001b[0m\n\u001b[0;32m----> 3\u001b[0;31m     \u001b[0;32mdef\u001b[0m \u001b[0m__init__\u001b[0m\u001b[0;34m(\u001b[0m\u001b[0mself\u001b[0m\u001b[0;34m,\u001b[0m \u001b[0mposition\u001b[0m \u001b[0;34m=\u001b[0m \u001b[0mnp\u001b[0m\u001b[0;34m.\u001b[0m\u001b[0marray\u001b[0m\u001b[0;34m(\u001b[0m\u001b[0;34m[\u001b[0m\u001b[0;36m.0\u001b[0m\u001b[0;34m,\u001b[0m \u001b[0;36m.0\u001b[0m\u001b[0;34m]\u001b[0m\u001b[0;34m)\u001b[0m\u001b[0;34m,\u001b[0m \u001b[0mmass\u001b[0m \u001b[0;34m=\u001b[0m \u001b[0;36m1.0\u001b[0m\u001b[0;34m,\u001b[0m \u001b[0mspeed\u001b[0m \u001b[0;34m=\u001b[0m \u001b[0mnp\u001b[0m\u001b[0;34m.\u001b[0m\u001b[0marray\u001b[0m\u001b[0;34m(\u001b[0m\u001b[0;34m[\u001b[0m\u001b[0;36m.0\u001b[0m\u001b[0;34m,\u001b[0m \u001b[0;36m.0\u001b[0m\u001b[0;34m]\u001b[0m\u001b[0;34m)\u001b[0m\u001b[0;34m,\u001b[0m \u001b[0mforce\u001b[0m \u001b[0;34m=\u001b[0m \u001b[0mnp\u001b[0m\u001b[0;34m.\u001b[0m\u001b[0marray\u001b[0m\u001b[0;34m(\u001b[0m\u001b[0;34m[\u001b[0m\u001b[0;36m.0\u001b[0m\u001b[0;34m,\u001b[0m \u001b[0;36m.0\u001b[0m\u001b[0;34m]\u001b[0m\u001b[0;34m)\u001b[0m\u001b[0;34m)\u001b[0m\u001b[0;34m:\u001b[0m\u001b[0;34m\u001b[0m\u001b[0;34m\u001b[0m\u001b[0m\n\u001b[0m\u001b[1;32m      4\u001b[0m         \u001b[0mself\u001b[0m\u001b[0;34m.\u001b[0m\u001b[0mposition\u001b[0m \u001b[0;34m=\u001b[0m \u001b[0mposition\u001b[0m\u001b[0;34m\u001b[0m\u001b[0;34m\u001b[0m\u001b[0m\n\u001b[1;32m      5\u001b[0m         \u001b[0mself\u001b[0m\u001b[0;34m.\u001b[0m\u001b[0mspeed\u001b[0m \u001b[0;34m=\u001b[0m \u001b[0mspeed\u001b[0m\u001b[0;34m\u001b[0m\u001b[0;34m\u001b[0m\u001b[0m\n",
      "\u001b[0;31mNameError\u001b[0m: name 'np' is not defined"
     ]
    }
   ],
   "source": [
    "class Node():\n",
    "\n",
    "    def __init__(self, position = np.array([.0, .0]), mass = 1.0, speed = np.array([.0, .0]), force = np.array([.0, .0])):\n",
    "        self.position = position\n",
    "        self.speed = speed\n",
    "        self.force = force\n",
    "        self.mass = mass\n",
    "\n",
    "    def add_force(self, new_force):\n",
    "        self.force += new_force\n",
    "        \n",
    "\n",
    "class SoftBody():\n",
    "        \n",
    "    def __init__(self, center = np.array([.0, .0]), radius = 2.0, segments = 100):\n",
    "\n",
    "        self.pressure_coeff = 1\n",
    "        self.tension_coeff = 1\n",
    "        self.center = center\n",
    "        self.radius = radius\n",
    "        self.segments = segments\n",
    "        self.nodes=[]\n",
    "        self.coordinates = []\n",
    "        angle = 2 * math.pi / segments\n",
    "\n",
    "        for i in range(segments):\n",
    "            position = np.array([radius * math.cos(i * angle), radius * math.sin(i * angle)])\n",
    "            node = Node(position = position)\n",
    "            self.nodes.append(node)\n",
    "            self.coordinates.append(node.position)\n",
    "\n",
    "        return\n",
    "\n",
    "    def get_coordinates(self):\n",
    "\n",
    "        x, y = zip(*self.coordinates)\n",
    "        return x, y\n",
    "\n",
    "    def update_gravity(self):\n",
    "\n",
    "        for node in self.nodes:\n",
    "            node.add_force([0, node.mass * -9.80665])\n",
    "        return\n",
    "\n",
    "    def calc_area(self):\n",
    "\n",
    "        area=0\n",
    "        for vertex in range(self.segments-1):\n",
    "            area += abs(self.coordinates[vertex][0] * self.coordinates[vertex + 1][1] \n",
    "                - self.coordinates[vertex + 1][0] * self.coordinates[vertex][1])\n",
    "        return area/2\n",
    "\n",
    "    def update_pressure(self):\n",
    "        \n",
    "        start_area = math.pi * self.radius ** 2\n",
    "        area = self.calc_area()\n",
    "\n",
    "        pressure = 1 / (start_area - area) * self.pressure_coeff\n",
    "\n",
    "        print('pressure: '+str(pressure))\n",
    "\n",
    "        for idx in range(len(self.coordinates)):\n",
    "\n",
    "            #take neighbors coordinates in a and b\n",
    "            a = self.coordinates[idx - 1]\n",
    "            if idx + 1 == len(self.coordinates):\n",
    "                b = self.coordinates[0]\n",
    "            else:\n",
    "                b = self.coordinates[idx + 1]\n",
    "            print(a)\n",
    "            print(b)\n",
    "            \n",
    "            force = np.array([(1 + ((b[0] - a[0]) / (a[1] - b[1])) ** 2) ** (-0.5), \n",
    "                (b[0] - a[0]) / (a[1] - b[1]) * ((1 + ((b[0] - a[0]) / (a[1] - b[1])) ** 2) ** (-0.5))]) * pressure\n",
    "\n",
    "            print(force)\n",
    "            print()\n",
    "            \n",
    "            self.nodes[idx].add_force(force)\n",
    "        return\n",
    "\n",
    "    def update_tension(self):\n",
    "\n",
    "        for idx in range(len(self.coordinates)):\n",
    "\n",
    "            #take neighbors coordinates in l and r\n",
    "            p = self.coordinates[idx]\n",
    "\n",
    "            l = self.coordinates[idx - 1]\n",
    "            if idx + 1 == len(self.coordinates):\n",
    "                r = self.coordinates[0]\n",
    "            else:\n",
    "                r = self.coordinates[idx + 1]\n",
    "\n",
    "            force_left = np.array([a[0] - p[0], a[1] - p[1]]) * self.tension_coeff\n",
    "            force_right = np.array([b[0] - p[0], b[1] - p[1]]) * self.tension_coeff\n",
    "\n",
    "            self.node[idx].add_force(force_left)\n",
    "            self.node[idx].add_force(force_right)\n",
    "\n",
    "        return\n",
    "    \n",
    "    def collision_detection(self):\n",
    "        return\n",
    "\n",
    "    def update_coordinates(self):\n",
    "        return\n",
    "\n",
    "    def update_velocity(self):\n",
    "        return\n",
    "\n",
    "    def advance_state(self):\n",
    "        return\n"
   ]
  },
  {
   "cell_type": "code",
   "execution_count": null,
   "metadata": {},
   "outputs": [],
   "source": [
    "b=SoftBody()"
   ]
  },
  {
   "cell_type": "code",
   "execution_count": null,
   "metadata": {},
   "outputs": [],
   "source": [
    "x,y = b.get_coordinates()"
   ]
  },
  {
   "cell_type": "code",
   "execution_count": null,
   "metadata": {},
   "outputs": [],
   "source": [
    "print(b.calc_area())"
   ]
  },
  {
   "cell_type": "code",
   "execution_count": null,
   "metadata": {},
   "outputs": [],
   "source": [
    "fig, ax = plt.subplots()\n",
    "\n",
    "ax.plot(x, y, ',')\n",
    "ax.axis('equal')\n",
    "ax.axis([-5,5,-5,5])\n",
    "plt.show()"
   ]
  },
  {
   "cell_type": "code",
   "execution_count": null,
   "metadata": {},
   "outputs": [],
   "source": [
    "b.update_pressure()"
   ]
  },
  {
   "cell_type": "code",
   "execution_count": null,
   "metadata": {},
   "outputs": [],
   "source": [
    "print(b.nodes[34].force)"
   ]
  },
  {
   "cell_type": "code",
   "execution_count": null,
   "metadata": {},
   "outputs": [],
   "source": []
  }
 ]
}